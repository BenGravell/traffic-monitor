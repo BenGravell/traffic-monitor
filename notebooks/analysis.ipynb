{
 "cells": [
  {
   "cell_type": "markdown",
   "metadata": {},
   "source": [
    "# Package imports"
   ]
  },
  {
   "cell_type": "code",
   "execution_count": null,
   "metadata": {},
   "outputs": [],
   "source": [
    "import numpy as np\n",
    "import pandas as pd\n",
    "import plotly.express as px\n",
    "import plotly.graph_objects as go\n",
    "import PIL.Image\n",
    "import PIL.ImageDraw\n",
    "import PIL.ImageFont\n",
    "import cv2\n",
    "\n",
    "from traffic.paths import ROOT\n",
    "from traffic.utils.colors import Vivid\n",
    "from traffic.utils import image_utils\n",
    "from traffic.tracker.track_info import TrackStatus"
   ]
  },
  {
   "cell_type": "markdown",
   "metadata": {},
   "source": [
    "# Options"
   ]
  },
  {
   "cell_type": "code",
   "execution_count": null,
   "metadata": {},
   "outputs": [],
   "source": [
    "history_dir_path = ROOT / \"data/runs/_example\"\n",
    "\n",
    "# Define a color map for regions\n",
    "region_color_map = {\n",
    "    \"INCOMING\": Vivid.BLUE,\n",
    "    \"OUTGOING\": Vivid.RED,\n",
    "}"
   ]
  },
  {
   "cell_type": "markdown",
   "metadata": {},
   "source": [
    "# Load data"
   ]
  },
  {
   "cell_type": "code",
   "execution_count": null,
   "metadata": {},
   "outputs": [],
   "source": [
    "# Read parquet to pandas dataframe\n",
    "df = pd.read_parquet(history_dir_path / \"tracks.parquet\")"
   ]
  },
  {
   "cell_type": "markdown",
   "metadata": {},
   "source": [
    "# Postprocess data"
   ]
  },
  {
   "cell_type": "code",
   "execution_count": null,
   "metadata": {},
   "outputs": [],
   "source": [
    "# Add centroid coordinates from box coordinates\n",
    "df[\"centroid_x\"] = (df[\"box_left\"] + df[\"box_right\"])/2\n",
    "df[\"centroid_y\"] = (df[\"box_top\"] + df[\"box_bottom\"])/2"
   ]
  },
  {
   "cell_type": "code",
   "execution_count": null,
   "metadata": {},
   "outputs": [],
   "source": [
    "# Get the list of regions present in any of the tracks.\n",
    "regions = df.region.unique().dropna().tolist()\n",
    "\n",
    "# Get series mapping from track ID to region, based on the last non-null region encountered for each track.\n",
    "region_series = df.dropna(subset=\"region\")[[\"id\", \"region\"]].groupby(\"id\").last().region"
   ]
  },
  {
   "cell_type": "markdown",
   "metadata": {},
   "source": [
    "# Analyze data"
   ]
  },
  {
   "cell_type": "markdown",
   "metadata": {},
   "source": [
    "## Track centroid paths"
   ]
  },
  {
   "cell_type": "code",
   "execution_count": null,
   "metadata": {},
   "outputs": [],
   "source": [
    "str(ROOT / \"data/background/background.png\")"
   ]
  },
  {
   "cell_type": "code",
   "execution_count": null,
   "metadata": {},
   "outputs": [],
   "source": [
    "# Open background image as cv2 frame\n",
    "frame = cv2.cvtColor(np.array(PIL.Image.open(str(ROOT / \"data/background/background.png\"))), cv2.COLOR_RGB2BGR)\n",
    "\n",
    "def get_color(track_id):\n",
    "    return region_color_map[region_series.loc[track_id]]\n",
    "\n",
    "def get_centroid_path_points(track_id):\n",
    "    return df[df.id == track_id][[\"centroid_x\", \"centroid_y\"]].astype(int).to_numpy()\n",
    "\n",
    "# Get list of all track IDs\n",
    "track_ids = df.id.dropna().unique()\n",
    "\n",
    "# Draw paths with arrowheads\n",
    "for track_id in track_ids:\n",
    "    centroid_path_points = get_centroid_path_points(track_id)\n",
    "    for i in range(len(centroid_path_points) - 1):\n",
    "        start_point = tuple(centroid_path_points[i])\n",
    "        end_point = tuple(centroid_path_points[i + 1])\n",
    "        cv2.arrowedLine(\n",
    "            frame,\n",
    "            start_point,\n",
    "            end_point,\n",
    "            color=get_color(track_id).bgr,\n",
    "            thickness=1,\n",
    "            tipLength=0.4,\n",
    "        )\n",
    "\n",
    "# Convert the image to PIL\n",
    "image = PIL.Image.fromarray(cv2.cvtColor(frame, cv2.COLOR_BGR2RGB))\n",
    "\n",
    "# Draw bubbles for track ID labels\n",
    "draw = PIL.ImageDraw.Draw(image)\n",
    "font_size = 10\n",
    "font = PIL.ImageFont.truetype(image_utils.get_font_path(\"Bold\"), font_size)\n",
    "def add_bubble(track_id):\n",
    "    centroid_path_points = get_centroid_path_points(track_id)\n",
    "    point = tuple(centroid_path_points[0])\n",
    "    x, y = point\n",
    "\n",
    "    color = get_color(track_id).hex\n",
    "    \n",
    "    # Create the text to be displayed in the bubble\n",
    "    text = str(track_id)\n",
    "    text_width = draw.textlength(text, font)\n",
    "    text_height = font_size\n",
    "    \n",
    "    # Define the bubble dimensions and padding\n",
    "    padding = 4\n",
    "    bubble_width = text_width + 2 * padding\n",
    "    bubble_height = text_height + 2 * padding\n",
    "    \n",
    "    # Draw the bubble rectangle\n",
    "    draw.rectangle(\n",
    "        [(x - bubble_width // 2, y - bubble_height // 2), (x + bubble_width // 2, y + bubble_height // 2)],\n",
    "        fill=\"white\",\n",
    "        outline=\"black\",\n",
    "    )\n",
    "    \n",
    "    # Draw the text inside the bubble\n",
    "    draw.text(\n",
    "        (x - text_width // 2, y - text_height // 2 - padding // 2),\n",
    "        text,\n",
    "        fill=color,\n",
    "        font=font\n",
    "    )\n",
    "    \n",
    "    return image\n",
    "\n",
    "\n",
    "# Add text bubbles to the image\n",
    "for track_id in track_ids:\n",
    "    add_bubble(track_id)\n",
    "\n",
    "image"
   ]
  },
  {
   "cell_type": "markdown",
   "metadata": {},
   "source": [
    "## Number of tracks in each region\n",
    "\n",
    "Based on the last non-null region encountered for each track.\n"
   ]
  },
  {
   "cell_type": "code",
   "execution_count": null,
   "metadata": {},
   "outputs": [],
   "source": [
    "df.dropna(subset=\"region\")[[\"id\", \"region\"]].groupby(\"id\").last().region.value_counts()"
   ]
  },
  {
   "cell_type": "markdown",
   "metadata": {},
   "source": [
    "## Track count history"
   ]
  },
  {
   "cell_type": "code",
   "execution_count": null,
   "metadata": {},
   "outputs": [],
   "source": [
    "# Get the per-region counts of active tracks\n",
    "active_df = df[df.status > 0]\n",
    "track_count_df = pd.DataFrame({region: active_df[active_df.region == region].index.get_level_values(\"outer_idx\").value_counts() for region in regions})\n",
    "track_count_df = track_count_df.sort_index()\n",
    "\n",
    "# Perform centered exponentially weighted moving average\n",
    "def centered_ewma(df: pd.DataFrame, span: float) -> pd.DataFrame:\n",
    "    def ewma(df: pd.DataFrame) -> pd.DataFrame:\n",
    "        return df.ewm(span=span, adjust=False).mean()\n",
    "\n",
    "    return (ewma(track_count_df) + ewma(track_count_df[::-1])) / 2\n",
    "\n",
    "span = 60 # ~2 seconds\n",
    "track_count_df_ewma = centered_ewma(track_count_df, span=span)\n"
   ]
  },
  {
   "cell_type": "code",
   "execution_count": null,
   "metadata": {},
   "outputs": [],
   "source": [
    "# Plot the EWMA\n",
    "color_discrete_map = {region: color.hex for region, color in region_color_map.items()}\n",
    "fig = px.line(track_count_df_ewma, color_discrete_map=color_discrete_map)\n",
    "\n",
    "# Add the raw counts\n",
    "for region in regions:\n",
    "    fig.add_trace(\n",
    "        go.Scatter(\n",
    "            x=track_count_df.index,\n",
    "            y=track_count_df[region],\n",
    "            mode=\"lines\",\n",
    "            name=f\"{region}_raw\",\n",
    "            line={\"color\": region_color_map[region].hex},\n",
    "            opacity=0.2,\n",
    "        )\n",
    "    )\n",
    "\n",
    "fig.update_layout(\n",
    "    title=\"Traffic Count Plot\",\n",
    "    xaxis_title=\"Frame #\",\n",
    "    yaxis_title=\"Count\",\n",
    ")\n",
    "fig.show()"
   ]
  },
  {
   "cell_type": "markdown",
   "metadata": {},
   "source": [
    "## Track status history"
   ]
  },
  {
   "cell_type": "code",
   "execution_count": null,
   "metadata": {},
   "outputs": [],
   "source": [
    "# Create a dense dataframe with the status of each track at each frame.\n",
    "frame_numbers = df.index.get_level_values(\"outer_idx\").unique()\n",
    "ids = df.id.unique().dropna()\n",
    "status_df = pd.DataFrame(0, index=frame_numbers, columns=ids)\n",
    "\n",
    "for id in ids:\n",
    "    sdf = df[df.id == id].reset_index(level=\"inner_idx\", drop=True)\n",
    "    status_df.loc[sdf.index, id] = sdf.status"
   ]
  },
  {
   "cell_type": "code",
   "execution_count": null,
   "metadata": {},
   "outputs": [],
   "source": [
    "# Show the status histories of a few arbitrarily chosen tracks.\n",
    "track_ids = [0, 3]\n",
    "fig = px.line(status_df[track_ids], labels={\"outer_idx\": \"Frame #\", \"value\": \"Status\", \"variable\": \"Track ID\"},)\n",
    "fig.update_yaxes(\n",
    "    tickvals=[status.value for status in TrackStatus],\n",
    "    ticktext=[status.name for status in TrackStatus],\n",
    ")\n",
    "fig.update_xaxes(range=[0, 400])\n",
    "fig.show()"
   ]
  },
  {
   "cell_type": "markdown",
   "metadata": {},
   "source": [
    "# Track duration histogram"
   ]
  },
  {
   "cell_type": "code",
   "execution_count": null,
   "metadata": {},
   "outputs": [],
   "source": [
    "# Pandas series where index is track ID and value is duration,\n",
    "# i.e. the delta between first and last time of the track having non-null status.\n",
    "track_status_non_null_df = status_df != TrackStatus.NULL\n",
    "duration_series = track_status_non_null_df[::-1].idxmax() - track_status_non_null_df.idxmax()\n",
    "duration_series.index.name = \"id\"\n",
    "\n",
    "# Combine columns\n",
    "duration_df = pd.DataFrame({\n",
    "    \"duration\": duration_series,\n",
    "    \"region\": region_series,\n",
    "})"
   ]
  },
  {
   "cell_type": "code",
   "execution_count": null,
   "metadata": {},
   "outputs": [],
   "source": [
    "px.histogram(\n",
    "    duration_df,\n",
    "    color=\"region\",\n",
    "    barmode=\"group\",\n",
    "    histnorm=\"percent\",\n",
    "    nbins=10,\n",
    "    labels={\n",
    "        \"value\": \"Duration (# frames)\",\n",
    "        \"region\": \"Region\",\n",
    "    },\n",
    ")"
   ]
  },
  {
   "cell_type": "code",
   "execution_count": null,
   "metadata": {},
   "outputs": [],
   "source": []
  }
 ],
 "metadata": {
  "kernelspec": {
   "display_name": "einride-interview",
   "language": "python",
   "name": "python3"
  },
  "language_info": {
   "codemirror_mode": {
    "name": "ipython",
    "version": 3
   },
   "file_extension": ".py",
   "mimetype": "text/x-python",
   "name": "python",
   "nbconvert_exporter": "python",
   "pygments_lexer": "ipython3",
   "version": "3.10.12"
  }
 },
 "nbformat": 4,
 "nbformat_minor": 2
}
